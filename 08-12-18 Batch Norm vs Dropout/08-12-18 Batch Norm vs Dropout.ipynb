{
 "cells": [
  {
   "cell_type": "markdown",
   "metadata": {},
   "source": [
    "# Experiment: Batch Norm vs Dropout as a ConvBlock Regularizer.\n",
    "\n",
    "This notebook is in progress. f you are coming here as a result of my article, please be patient. I will continue retraining these models tonight and publish a complete writeup tomorrow morning. (8/18)\n",
    "\n",
    "The following experiment tests the performance of similar convolutional networks, trained on Cifar100. The only difference between the models being the placement of a batch normalization or dropout layer somewhere between convolutions.\n",
    "\n",
    "The hypothesis: Batch normalization is a more effective regularizer than dropout when placed between convolutional layers. Since each network is similar, and trained on the same data, the model with the most effective regularizer will have the lowest validation loss.\n",
    "\n",
    "\n",
    "## Batch Normalization vs Dropout in convolutional layers.\n",
    "\n",
    "#### [[1]](#Performance-of-BN-and-D-before-activations) Performance of Batch normalization and Dropout before activations\n",
    "\n",
    "#### [[2]](#Performance-of-BN-and-D-after-activations) Performance of BN and dropout after activations\n",
    "\n",
    "#### [[3]](#Performance-of-BN-and-D-after-maxpooling) Performance of BN and dropout after maxpooling\n"
   ]
  },
  {
   "cell_type": "markdown",
   "metadata": {},
   "source": [
    "### Imports"
   ]
  },
  {
   "cell_type": "code",
   "execution_count": 1,
   "metadata": {},
   "outputs": [
    {
     "name": "stderr",
     "output_type": "stream",
     "text": [
      "Using TensorFlow backend.\n"
     ]
    }
   ],
   "source": [
    "import tensorflow as tf \n",
    "import numpy as np\n",
    "import os\n",
    "\n",
    "import keras\n",
    "from keras.preprocessing.image import ImageDataGenerator, array_to_img, img_to_array, load_img\n",
    "import matplotlib.pyplot as plt\n",
    "import matplotlib.image as mpimg\n",
    "\n",
    "from keras.models import Model, Sequential\n",
    "from keras.layers import Input\n",
    "\n",
    "from keras.callbacks import ModelCheckpoint, EarlyStopping\n",
    "from keras.layers import BatchNormalization\n",
    "from keras.layers import GlobalAveragePooling2D\n",
    "from keras.layers import Activation\n",
    "from keras.layers import Conv2D, MaxPooling2D, Dense\n",
    "from keras.layers import MaxPooling2D, Dropout, Flatten\n",
    "\n",
    "import time"
   ]
  },
  {
   "cell_type": "markdown",
   "metadata": {},
   "source": [
    "### Data Loading and Preprocessing."
   ]
  },
  {
   "cell_type": "code",
   "execution_count": 2,
   "metadata": {},
   "outputs": [],
   "source": [
    "from keras.datasets import cifar100\n",
    "from keras.utils import np_utils\n",
    "\n",
    "(x_train, y_train), (x_test, y_test) = cifar100.load_data(label_mode='fine')\n",
    "\n",
    "#scale and regularize the dataset\n",
    "x_train = (x_train-np.mean(x_train))\n",
    "x_test = (x_test - x_test.mean())\n",
    "\n",
    "x_train = x_train.astype('float32')\n",
    "x_test = x_test.astype('float32')\n",
    "\n",
    "#onehot encode the target classes\n",
    "y_train = np_utils.to_categorical(y_train)\n",
    "y_test = np_utils.to_categorical(y_test)\n",
    "\n",
    "\n",
    "train_datagen = ImageDataGenerator()\n",
    "\n",
    "train_datagen.fit(x_train)\n",
    "\n",
    "train_generator = train_datagen.flow(x_train,\n",
    "                                     y = y_train,\n",
    "                                    batch_size=60,)"
   ]
  },
  {
   "cell_type": "markdown",
   "metadata": {},
   "source": [
    "# Dropout and Batch Norm before Activations"
   ]
  },
  {
   "cell_type": "markdown",
   "metadata": {},
   "source": [
    "### Model Construction"
   ]
  },
  {
   "cell_type": "code",
   "execution_count": 3,
   "metadata": {},
   "outputs": [],
   "source": [
    "def conv_block_first(model, bn=False, dropout=False, rate=0.4, activation=\"relu\"):\n",
    "    \"\"\"\n",
    "    The first convolutional block in each architecture. Only seperate so we can \n",
    "    specify the input shape.\n",
    "    \"\"\"\n",
    "    model.add(Conv2D(60,3, padding = \"same\", input_shape = x_train.shape[1:]))\n",
    "    if bn:\n",
    "        model.add(BatchNormalization())\n",
    "    if dropout:\n",
    "        model.add(Dropout(rate))    \n",
    "    model.add(Activation(activation))\n",
    "    \n",
    "    model.add(Conv2D(60,3, padding = \"same\"))\n",
    "    if bn:\n",
    "        model.add(BatchNormalization())\n",
    "    if dropout:\n",
    "        model.add(Dropout(rate))  \n",
    "    model.add(Activation(activation))\n",
    "    \n",
    "    model.add(MaxPooling2D())\n",
    "    return model\n",
    "\n",
    "def conv_block(model, bn=False, dropout=False, rate=0.5, activation = \"relu\"):\n",
    "    \"\"\"\n",
    "    Generic convolutional block with 2 stacked 3x3 convolutions, max pooling, dropout, \n",
    "    and an optional Batch Normalization.\n",
    "    \"\"\"\n",
    "    model.add(Conv2D(60,3, padding = \"same\"))\n",
    "    if bn:\n",
    "        model.add(BatchNormalization())\n",
    "    if dropout:\n",
    "        model.add(Dropout(rate))  \n",
    "    model.add(Activation(activation))\n",
    "    \n",
    "    model.add(Conv2D(60,3, padding = \"same\"))\n",
    "    if bn:\n",
    "        model.add(BatchNormalization())\n",
    "    if dropout:\n",
    "        model.add(Dropout(rate))  \n",
    "    model.add(Activation(activation))\n",
    "    model.add(MaxPooling2D())\n",
    "    return model\n",
    "\n",
    "def conv_block_final(model, bn=False, dropout=False, rate=0.5, activation = \"relu\"):\n",
    "    \"\"\"\n",
    "    I bumped up the number of filters in the final block. I made this seperate so that\n",
    "    I might be able to integrate Global Average Pooling later on. \n",
    "    \"\"\"\n",
    "    model.add(Conv2D(100,3, padding = \"same\"))\n",
    "    if bn:\n",
    "        model.add(BatchNormalization())\n",
    "    if dropout:\n",
    "        model.add(Dropout(rate))  \n",
    "    model.add(Activation(activation))\n",
    "    \n",
    "    model.add(Conv2D(100,3, padding = \"same\"))\n",
    "    if bn:\n",
    "        model.add(BatchNormalization())\n",
    "    if dropout:\n",
    "        model.add(Dropout(rate))  \n",
    "    model.add(Activation(activation))\n",
    "    \n",
    "    model.add(Flatten())\n",
    "    return model\n",
    "\n",
    "def fn_block(model):\n",
    "    \"\"\"\n",
    "    I'm not going for a very deep fully connected block, mainly so I can save on memory.\n",
    "    \"\"\"\n",
    "    model.add(Dense(100, activation = \"softmax\"))\n",
    "    return model\n",
    "\n",
    "def build_model(blocks=3, bn=False, dropout=False, rate=0.5, activation = \"relu\"):\n",
    "    \"\"\"\n",
    "    Builds a sequential network based on the specified parameters.\n",
    "    \n",
    "    blocks: number of convolutional blocks in the network, must be greater than 2.\n",
    "    bn: whether to include batch normalization or not.\n",
    "    activation: activation function to use throughout the network.\n",
    "    \"\"\"\n",
    "    model = Sequential()\n",
    "    \n",
    "    model = conv_block_first(model, bn=bn, dropout=dropout, rate=rate, activation=activation)\n",
    "    \n",
    "    for block in range(1,blocks-1):\n",
    "        model = conv_block(model, bn=bn, dropout=dropout, rate=rate, activation = activation)\n",
    "        \n",
    "    model = conv_block_final(model, bn=bn, dropout=dropout, rate=rate, activation=activation)\n",
    "    model = fn_block(model)\n",
    "    \n",
    "    return model\n",
    "\n",
    "def compile_model(model, optimizer = \"rmsprop\", loss = \"categorical_crossentropy\", metrics = [\"accuracy\"]): \n",
    "    \"\"\"\n",
    "    Compiles a neural network.\n",
    "    \n",
    "    model: the network to be compiled.\n",
    "    optimizer: the optimizer to use.\n",
    "    loss: the loss to use.\n",
    "    metrics: a list of keras metrics.\n",
    "    \"\"\"\n",
    "    model.compile(optimizer = optimizer,\n",
    "                 loss = loss,\n",
    "                 metrics = metrics)\n",
    "    return model"
   ]
  },
  {
   "cell_type": "markdown",
   "metadata": {},
   "source": [
    "### Compile Models"
   ]
  },
  {
   "cell_type": "code",
   "execution_count": 4,
   "metadata": {},
   "outputs": [],
   "source": [
    "control = build_model(blocks = 5, bn=False, dropout=False, activation = \"relu\")\n",
    "control = compile_model(control)\n",
    "\n",
    "batchNorm = build_model(blocks = 5, bn=True, dropout=False, activation = \"relu\")\n",
    "batchNorm = compile_model(batchNorm)\n",
    "\n",
    "dropout5 = build_model(blocks = 5, bn=False, dropout=True, rate=0.5, activation = \"relu\")\n",
    "dropout5 = compile_model(dropout5)\n",
    "\n",
    "dropout3 = build_model(blocks = 5, bn=False, dropout=True, rate=0.3, activation = \"relu\")\n",
    "dropout3 = compile_model(dropout3)\n",
    "\n",
    "dropout1 = build_model(blocks = 5, bn=False, dropout=True, rate=0.1, activation = \"relu\")\n",
    "dropout1 = compile_model(dropout1)"
   ]
  },
  {
   "cell_type": "markdown",
   "metadata": {},
   "source": [
    "## Train the Models"
   ]
  },
  {
   "cell_type": "code",
   "execution_count": 5,
   "metadata": {},
   "outputs": [],
   "source": [
    "def trainModel(model, savedest):\n",
    "    start = time.time()\n",
    "    model_checkpoint = ModelCheckpoint(savedest,\n",
    "                                   save_best_only = True)\n",
    "\n",
    "    history = model.fit_generator(\n",
    "        train_generator,\n",
    "        steps_per_epoch=1500,\n",
    "        epochs=20,\n",
    "        verbose=0,\n",
    "        validation_data=(x_test, y_test),\n",
    "        callbacks = [model_checkpoint])\n",
    "\n",
    "    end = time.time()\n",
    "\n",
    "    print(\"Training time: \", (end - start)/60, \" minutes\")\n",
    "    return history\n",
    "\n",
    "def plotModel(history, modelname):\n",
    "    plt.figure(figsize=(12,6))\n",
    "    # summarize history for accuracy\n",
    "    plt.subplot(121)\n",
    "    plt.plot(history.history['acc'])\n",
    "    plt.plot(history.history['val_acc'])\n",
    "    plt.title(modelname+' Accuracy')\n",
    "    plt.ylabel('accuracy')\n",
    "    plt.xlabel('epoch')\n",
    "    plt.legend(['train', 'validation'], loc='upper left')\n",
    "    # summarize history for loss\n",
    "    plt.subplot(122)\n",
    "    plt.plot(history1.history['loss'])\n",
    "    plt.plot(history1.history['val_loss'])\n",
    "    plt.title(modelname+' Loss')\n",
    "    plt.ylabel('loss')\n",
    "    plt.xlabel('epoch')\n",
    "    plt.legend(['train', 'validation'], loc='upper right')\n",
    "    plt.show()\n",
    "    return None\n",
    "\n",
    "def plotAllModels(history1, history2, history3, history4, history5, title):\n",
    "    plt.figure(figsize=(12,6))\n",
    "    # summarize history for accuracy\n",
    "    plt.subplot(121)\n",
    "    plt.plot(history1.history['val_acc'])\n",
    "    plt.plot(history2.history['val_acc'])\n",
    "    plt.plot(history3.history['val_acc'])\n",
    "    plt.plot(history4.history['val_acc'])\n",
    "    plt.plot(history5.history['val_acc'])\n",
    "    plt.title(title + ' Accuracy')\n",
    "    plt.ylabel('accuracy')\n",
    "    plt.xlabel('epoch')\n",
    "    plt.legend(['Control', 'Batch Norm', 'Dropout (0.5)', 'Dropout (0.3)', 'Dropout (0.1)'], loc='upper left')\n",
    "    # summarize history for loss\n",
    "    plt.subplot(122)\n",
    "    plt.plot(history1.history['val_loss'])\n",
    "    plt.plot(history2.history['val_loss'])\n",
    "    plt.plot(history3.history['val_loss'])\n",
    "    plt.plot(history4.history['val_loss'])\n",
    "    plt.plot(history5.history['val_loss'])\n",
    "\n",
    "    plt.title(title+ ' Loss')\n",
    "    plt.ylabel('loss')\n",
    "    plt.xlabel('epoch')\n",
    "    plt.legend(['Control', 'Batch Norm', 'Dropout', 'Dropout (0.3)', 'Dropout (0.1)'], loc='upper right')\n",
    "    plt.show()\n",
    "    return None"
   ]
  },
  {
   "cell_type": "markdown",
   "metadata": {},
   "source": [
    "### Control Model\n",
    "No dropout no batch norm."
   ]
  },
  {
   "cell_type": "code",
   "execution_count": 6,
   "metadata": {},
   "outputs": [
    {
     "name": "stdout",
     "output_type": "stream",
     "text": [
      "Training time:  6.579323526223501  minutes\n"
     ]
    }
   ],
   "source": [
    "history1 = trainModel(control, 'models/control.h5')"
   ]
  },
  {
   "cell_type": "code",
   "execution_count": 7,
   "metadata": {},
   "outputs": [
    {
     "data": {
      "image/png": "[encoded data removed]",
      "text/plain": [
       "<Figure size 864x432 with 2 Axes>"
      ]
     },
     "metadata": {},
     "output_type": "display_data"
    }
   ],
   "source": [
    "plotModel(history1, \"Control\")"
   ]
  },
  {
   "cell_type": "markdown",
   "metadata": {},
   "source": [
    "### Batch Normalization\n",
    "Batch norm after convolutions and prior to activations."
   ]
  },
  {
   "cell_type": "code",
   "execution_count": 8,
   "metadata": {},
   "outputs": [
    {
     "ename": "KeyboardInterrupt",
     "evalue": "",
     "output_type": "error",
     "traceback": [
      "\u001b[1;31m---------------------------------------------------------------------------\u001b[0m",
      "\u001b[1;31mKeyboardInterrupt\u001b[0m                         Traceback (most recent call last)",
      "\u001b[1;32m<ipython-input-8-c267e6301dbd>\u001b[0m in \u001b[0;36m<module>\u001b[1;34m()\u001b[0m\n\u001b[1;32m----> 1\u001b[1;33m \u001b[0mhistory2\u001b[0m \u001b[1;33m=\u001b[0m \u001b[0mtrainModel\u001b[0m\u001b[1;33m(\u001b[0m\u001b[0mbatchNorm\u001b[0m\u001b[1;33m,\u001b[0m \u001b[1;34m'models/batchNorm.h5'\u001b[0m\u001b[1;33m)\u001b[0m\u001b[1;33m\u001b[0m\u001b[0m\n\u001b[0m",
      "\u001b[1;32m<ipython-input-5-4c520a02a8dd>\u001b[0m in \u001b[0;36mtrainModel\u001b[1;34m(model, savedest)\u001b[0m\n\u001b[0;32m     10\u001b[0m         \u001b[0mverbose\u001b[0m\u001b[1;33m=\u001b[0m\u001b[1;36m0\u001b[0m\u001b[1;33m,\u001b[0m\u001b[1;33m\u001b[0m\u001b[0m\n\u001b[0;32m     11\u001b[0m         \u001b[0mvalidation_data\u001b[0m\u001b[1;33m=\u001b[0m\u001b[1;33m(\u001b[0m\u001b[0mx_test\u001b[0m\u001b[1;33m,\u001b[0m \u001b[0my_test\u001b[0m\u001b[1;33m)\u001b[0m\u001b[1;33m,\u001b[0m\u001b[1;33m\u001b[0m\u001b[0m\n\u001b[1;32m---> 12\u001b[1;33m         callbacks = [model_checkpoint])\n\u001b[0m\u001b[0;32m     13\u001b[0m \u001b[1;33m\u001b[0m\u001b[0m\n\u001b[0;32m     14\u001b[0m     \u001b[0mend\u001b[0m \u001b[1;33m=\u001b[0m \u001b[0mtime\u001b[0m\u001b[1;33m.\u001b[0m\u001b[0mtime\u001b[0m\u001b[1;33m(\u001b[0m\u001b[1;33m)\u001b[0m\u001b[1;33m\u001b[0m\u001b[0m\n",
      "\u001b[1;32m~\\Anaconda3\\envs\\tensorflow\\lib\\site-packages\\keras\\legacy\\interfaces.py\u001b[0m in \u001b[0;36mwrapper\u001b[1;34m(*args, **kwargs)\u001b[0m\n\u001b[0;32m     89\u001b[0m                 warnings.warn('Update your `' + object_name +\n\u001b[0;32m     90\u001b[0m                               '` call to the Keras 2 API: ' + signature, stacklevel=2)\n\u001b[1;32m---> 91\u001b[1;33m             \u001b[1;32mreturn\u001b[0m \u001b[0mfunc\u001b[0m\u001b[1;33m(\u001b[0m\u001b[1;33m*\u001b[0m\u001b[0margs\u001b[0m\u001b[1;33m,\u001b[0m \u001b[1;33m**\u001b[0m\u001b[0mkwargs\u001b[0m\u001b[1;33m)\u001b[0m\u001b[1;33m\u001b[0m\u001b[0m\n\u001b[0m\u001b[0;32m     92\u001b[0m         \u001b[0mwrapper\u001b[0m\u001b[1;33m.\u001b[0m\u001b[0m_original_function\u001b[0m \u001b[1;33m=\u001b[0m \u001b[0mfunc\u001b[0m\u001b[1;33m\u001b[0m\u001b[0m\n\u001b[0;32m     93\u001b[0m         \u001b[1;32mreturn\u001b[0m \u001b[0mwrapper\u001b[0m\u001b[1;33m\u001b[0m\u001b[0m\n",
      "\u001b[1;32m~\\Anaconda3\\envs\\tensorflow\\lib\\site-packages\\keras\\engine\\training.py\u001b[0m in \u001b[0;36mfit_generator\u001b[1;34m(self, generator, steps_per_epoch, epochs, verbose, callbacks, validation_data, validation_steps, class_weight, max_queue_size, workers, use_multiprocessing, shuffle, initial_epoch)\u001b[0m\n\u001b[0;32m   1424\u001b[0m             \u001b[0muse_multiprocessing\u001b[0m\u001b[1;33m=\u001b[0m\u001b[0muse_multiprocessing\u001b[0m\u001b[1;33m,\u001b[0m\u001b[1;33m\u001b[0m\u001b[0m\n\u001b[0;32m   1425\u001b[0m             \u001b[0mshuffle\u001b[0m\u001b[1;33m=\u001b[0m\u001b[0mshuffle\u001b[0m\u001b[1;33m,\u001b[0m\u001b[1;33m\u001b[0m\u001b[0m\n\u001b[1;32m-> 1426\u001b[1;33m             initial_epoch=initial_epoch)\n\u001b[0m\u001b[0;32m   1427\u001b[0m \u001b[1;33m\u001b[0m\u001b[0m\n\u001b[0;32m   1428\u001b[0m     \u001b[1;33m@\u001b[0m\u001b[0minterfaces\u001b[0m\u001b[1;33m.\u001b[0m\u001b[0mlegacy_generator_methods_support\u001b[0m\u001b[1;33m\u001b[0m\u001b[0m\n",
      "\u001b[1;32m~\\Anaconda3\\envs\\tensorflow\\lib\\site-packages\\keras\\engine\\training_generator.py\u001b[0m in \u001b[0;36mfit_generator\u001b[1;34m(model, generator, steps_per_epoch, epochs, verbose, callbacks, validation_data, validation_steps, class_weight, max_queue_size, workers, use_multiprocessing, shuffle, initial_epoch)\u001b[0m\n\u001b[0;32m    189\u001b[0m                 outs = model.train_on_batch(x, y,\n\u001b[0;32m    190\u001b[0m                                             \u001b[0msample_weight\u001b[0m\u001b[1;33m=\u001b[0m\u001b[0msample_weight\u001b[0m\u001b[1;33m,\u001b[0m\u001b[1;33m\u001b[0m\u001b[0m\n\u001b[1;32m--> 191\u001b[1;33m                                             class_weight=class_weight)\n\u001b[0m\u001b[0;32m    192\u001b[0m \u001b[1;33m\u001b[0m\u001b[0m\n\u001b[0;32m    193\u001b[0m                 \u001b[1;32mif\u001b[0m \u001b[1;32mnot\u001b[0m \u001b[0misinstance\u001b[0m\u001b[1;33m(\u001b[0m\u001b[0mouts\u001b[0m\u001b[1;33m,\u001b[0m \u001b[0mlist\u001b[0m\u001b[1;33m)\u001b[0m\u001b[1;33m:\u001b[0m\u001b[1;33m\u001b[0m\u001b[0m\n",
      "\u001b[1;32m~\\Anaconda3\\envs\\tensorflow\\lib\\site-packages\\keras\\engine\\training.py\u001b[0m in \u001b[0;36mtrain_on_batch\u001b[1;34m(self, x, y, sample_weight, class_weight)\u001b[0m\n\u001b[0;32m   1218\u001b[0m             \u001b[0mins\u001b[0m \u001b[1;33m=\u001b[0m \u001b[0mx\u001b[0m \u001b[1;33m+\u001b[0m \u001b[0my\u001b[0m \u001b[1;33m+\u001b[0m \u001b[0msample_weights\u001b[0m\u001b[1;33m\u001b[0m\u001b[0m\n\u001b[0;32m   1219\u001b[0m         \u001b[0mself\u001b[0m\u001b[1;33m.\u001b[0m\u001b[0m_make_train_function\u001b[0m\u001b[1;33m(\u001b[0m\u001b[1;33m)\u001b[0m\u001b[1;33m\u001b[0m\u001b[0m\n\u001b[1;32m-> 1220\u001b[1;33m         \u001b[0moutputs\u001b[0m \u001b[1;33m=\u001b[0m \u001b[0mself\u001b[0m\u001b[1;33m.\u001b[0m\u001b[0mtrain_function\u001b[0m\u001b[1;33m(\u001b[0m\u001b[0mins\u001b[0m\u001b[1;33m)\u001b[0m\u001b[1;33m\u001b[0m\u001b[0m\n\u001b[0m\u001b[0;32m   1221\u001b[0m         \u001b[1;32mif\u001b[0m \u001b[0mlen\u001b[0m\u001b[1;33m(\u001b[0m\u001b[0moutputs\u001b[0m\u001b[1;33m)\u001b[0m \u001b[1;33m==\u001b[0m \u001b[1;36m1\u001b[0m\u001b[1;33m:\u001b[0m\u001b[1;33m\u001b[0m\u001b[0m\n\u001b[0;32m   1222\u001b[0m             \u001b[1;32mreturn\u001b[0m \u001b[0moutputs\u001b[0m\u001b[1;33m[\u001b[0m\u001b[1;36m0\u001b[0m\u001b[1;33m]\u001b[0m\u001b[1;33m\u001b[0m\u001b[0m\n",
      "\u001b[1;32m~\\Anaconda3\\envs\\tensorflow\\lib\\site-packages\\keras\\backend\\tensorflow_backend.py\u001b[0m in \u001b[0;36m__call__\u001b[1;34m(self, inputs)\u001b[0m\n\u001b[0;32m   2659\u001b[0m                 \u001b[1;32mreturn\u001b[0m \u001b[0mself\u001b[0m\u001b[1;33m.\u001b[0m\u001b[0m_legacy_call\u001b[0m\u001b[1;33m(\u001b[0m\u001b[0minputs\u001b[0m\u001b[1;33m)\u001b[0m\u001b[1;33m\u001b[0m\u001b[0m\n\u001b[0;32m   2660\u001b[0m \u001b[1;33m\u001b[0m\u001b[0m\n\u001b[1;32m-> 2661\u001b[1;33m             \u001b[1;32mreturn\u001b[0m \u001b[0mself\u001b[0m\u001b[1;33m.\u001b[0m\u001b[0m_call\u001b[0m\u001b[1;33m(\u001b[0m\u001b[0minputs\u001b[0m\u001b[1;33m)\u001b[0m\u001b[1;33m\u001b[0m\u001b[0m\n\u001b[0m\u001b[0;32m   2662\u001b[0m         \u001b[1;32melse\u001b[0m\u001b[1;33m:\u001b[0m\u001b[1;33m\u001b[0m\u001b[0m\n\u001b[0;32m   2663\u001b[0m             \u001b[1;32mif\u001b[0m \u001b[0mpy_any\u001b[0m\u001b[1;33m(\u001b[0m\u001b[0mis_tensor\u001b[0m\u001b[1;33m(\u001b[0m\u001b[0mx\u001b[0m\u001b[1;33m)\u001b[0m \u001b[1;32mfor\u001b[0m \u001b[0mx\u001b[0m \u001b[1;32min\u001b[0m \u001b[0minputs\u001b[0m\u001b[1;33m)\u001b[0m\u001b[1;33m:\u001b[0m\u001b[1;33m\u001b[0m\u001b[0m\n",
      "\u001b[1;32m~\\Anaconda3\\envs\\tensorflow\\lib\\site-packages\\keras\\backend\\tensorflow_backend.py\u001b[0m in \u001b[0;36m_call\u001b[1;34m(self, inputs)\u001b[0m\n\u001b[0;32m   2629\u001b[0m                                 \u001b[0msymbol_vals\u001b[0m\u001b[1;33m,\u001b[0m\u001b[1;33m\u001b[0m\u001b[0m\n\u001b[0;32m   2630\u001b[0m                                 session)\n\u001b[1;32m-> 2631\u001b[1;33m         \u001b[0mfetched\u001b[0m \u001b[1;33m=\u001b[0m \u001b[0mself\u001b[0m\u001b[1;33m.\u001b[0m\u001b[0m_callable_fn\u001b[0m\u001b[1;33m(\u001b[0m\u001b[1;33m*\u001b[0m\u001b[0marray_vals\u001b[0m\u001b[1;33m)\u001b[0m\u001b[1;33m\u001b[0m\u001b[0m\n\u001b[0m\u001b[0;32m   2632\u001b[0m         \u001b[1;32mreturn\u001b[0m \u001b[0mfetched\u001b[0m\u001b[1;33m[\u001b[0m\u001b[1;33m:\u001b[0m\u001b[0mlen\u001b[0m\u001b[1;33m(\u001b[0m\u001b[0mself\u001b[0m\u001b[1;33m.\u001b[0m\u001b[0moutputs\u001b[0m\u001b[1;33m)\u001b[0m\u001b[1;33m]\u001b[0m\u001b[1;33m\u001b[0m\u001b[0m\n\u001b[0;32m   2633\u001b[0m \u001b[1;33m\u001b[0m\u001b[0m\n",
      "\u001b[1;32m~\\Anaconda3\\envs\\tensorflow\\lib\\site-packages\\tensorflow\\python\\client\\session.py\u001b[0m in \u001b[0;36m__call__\u001b[1;34m(self, *args)\u001b[0m\n\u001b[0;32m   1449\u001b[0m         \u001b[1;32mif\u001b[0m \u001b[0mself\u001b[0m\u001b[1;33m.\u001b[0m\u001b[0m_session\u001b[0m\u001b[1;33m.\u001b[0m\u001b[0m_created_with_new_api\u001b[0m\u001b[1;33m:\u001b[0m\u001b[1;33m\u001b[0m\u001b[0m\n\u001b[0;32m   1450\u001b[0m           return tf_session.TF_SessionRunCallable(\n\u001b[1;32m-> 1451\u001b[1;33m               self._session._session, self._handle, args, status, None)\n\u001b[0m\u001b[0;32m   1452\u001b[0m         \u001b[1;32melse\u001b[0m\u001b[1;33m:\u001b[0m\u001b[1;33m\u001b[0m\u001b[0m\n\u001b[0;32m   1453\u001b[0m           return tf_session.TF_DeprecatedSessionRunCallable(\n",
      "\u001b[1;31mKeyboardInterrupt\u001b[0m: "
     ]
    }
   ],
   "source": [
    "history2 = trainModel(batchNorm, 'models/batchNorm.h5')"
   ]
  },
  {
   "cell_type": "code",
   "execution_count": null,
   "metadata": {},
   "outputs": [],
   "source": [
    "plotModel(history2, \"BN Before Activation\")"
   ]
  },
  {
   "cell_type": "markdown",
   "metadata": {},
   "source": [
    "### Dropout 0.5\n",
    "Dropout prior to activation with rate 0.5"
   ]
  },
  {
   "cell_type": "code",
   "execution_count": null,
   "metadata": {},
   "outputs": [],
   "source": [
    "history3 = trainModel(dropout5, 'models/Dropout5.h5')"
   ]
  },
  {
   "cell_type": "code",
   "execution_count": null,
   "metadata": {},
   "outputs": [],
   "source": [
    "plotModel(history3, \"D (0.5) Before Activation\")"
   ]
  },
  {
   "cell_type": "markdown",
   "metadata": {},
   "source": [
    "### Dropout 0.3\n",
    "Dropout prior to activation with rate 0.3"
   ]
  },
  {
   "cell_type": "code",
   "execution_count": null,
   "metadata": {},
   "outputs": [],
   "source": [
    "history4 = trainModel(dropout3, 'models/Dropout3.h5')"
   ]
  },
  {
   "cell_type": "code",
   "execution_count": null,
   "metadata": {},
   "outputs": [],
   "source": [
    "plotModel(history4, \"D (0.3) Before Activation\")"
   ]
  },
  {
   "cell_type": "markdown",
   "metadata": {},
   "source": [
    "### Dropout 0.1\n",
    "Dropout prior to activation with rate 0.1"
   ]
  },
  {
   "cell_type": "code",
   "execution_count": null,
   "metadata": {},
   "outputs": [],
   "source": [
    "history5 = trainModel(dropout1, 'models/Dropout1.h5')"
   ]
  },
  {
   "cell_type": "code",
   "execution_count": null,
   "metadata": {},
   "outputs": [],
   "source": [
    "plotModel(history5, \"D (0.1) Before Activation\")"
   ]
  },
  {
   "cell_type": "markdown",
   "metadata": {},
   "source": [
    "### Performance of BN and D before activations\n",
    "This is the performance of all 5 models plotted together. "
   ]
  },
  {
   "cell_type": "code",
   "execution_count": null,
   "metadata": {},
   "outputs": [],
   "source": [
    "plotAllModels(history1, history2, history3, history4, history5, \"All Models (before activation)\")"
   ]
  },
  {
   "cell_type": "markdown",
   "metadata": {},
   "source": [
    "# What if we add dropout and batch norm after activations?\n",
    "\n",
    "## Model Construction\n"
   ]
  },
  {
   "cell_type": "code",
   "execution_count": null,
   "metadata": {},
   "outputs": [],
   "source": [
    "def conv_block_first(model, bn=False, dropout=False, rate=0.4, activation=\"relu\"):\n",
    "    \"\"\"\n",
    "    The first convolutional block in each architecture. Only seperate so we can \n",
    "    specify the input shape.\n",
    "    \"\"\"\n",
    "    model.add(Conv2D(60,3, padding = \"same\", input_shape = x_train.shape[1:]))\n",
    "    model.add(Activation(activation))\n",
    "    if bn:\n",
    "        model.add(BatchNormalization())    \n",
    "    if dropout:\n",
    "        model.add(Dropout(rate)) \n",
    "    \n",
    "    model.add(Conv2D(60,3, padding = \"same\"))\n",
    "    model.add(Activation(activation))\n",
    "    if bn:\n",
    "        model.add(BatchNormalization())\n",
    "    if dropout:\n",
    "        model.add(Dropout(rate)) \n",
    "    \n",
    "    model.add(MaxPooling2D())\n",
    "    return model\n",
    "\n",
    "def conv_block(model, bn=False, dropout=False, rate=0.5, activation = \"relu\"):\n",
    "    \"\"\"\n",
    "    Generic convolutional block with 2 stacked 3x3 convolutions, max pooling, dropout, \n",
    "    and an optional Batch Normalization.\n",
    "    \"\"\"\n",
    "    model.add(Conv2D(60,3, padding = \"same\"))\n",
    "    model.add(Activation(activation))\n",
    "    if bn:\n",
    "        model.add(BatchNormalization())\n",
    "    if dropout:\n",
    "        model.add(Dropout(rate)) \n",
    "    \n",
    "    model.add(Conv2D(60,3, padding = \"same\"))\n",
    "    model.add(Activation(activation))\n",
    "    if bn:\n",
    "        model.add(BatchNormalization())\n",
    "    if dropout:\n",
    "        model.add(Dropout(rate)) \n",
    "        \n",
    "    model.add(MaxPooling2D())\n",
    "    return model\n",
    "\n",
    "def conv_block_final(model, bn=False, dropout=False, rate=0.5, activation = \"relu\"):\n",
    "    \"\"\"\n",
    "    I bumped up the number of filters in the final block. I made this seperate so that\n",
    "    I might be able to integrate Global Average Pooling later on. \n",
    "    \"\"\"\n",
    "    model.add(Conv2D(100,3, padding = \"same\"))\n",
    "    model.add(Activation(activation))\n",
    "    if bn:\n",
    "        model.add(BatchNormalization())\n",
    "    if dropout:\n",
    "        model.add(Dropout(rate)) \n",
    "    \n",
    "    model.add(Conv2D(100,3, padding = \"same\"))\n",
    "    model.add(Activation(activation))\n",
    "    if bn:\n",
    "        model.add(BatchNormalization())\n",
    "    if dropout:\n",
    "        model.add(Dropout(rate)) \n",
    "        \n",
    "    model.add(Flatten())\n",
    "    return model\n",
    "\n",
    "def fn_block(model):\n",
    "    \"\"\"\n",
    "    I'm not going for a very deep fully connected block, mainly so I can save on memory.\n",
    "    \"\"\"\n",
    "    model.add(Dense(100, activation = \"softmax\"))\n",
    "    return model\n",
    "\n",
    "def build_model(blocks=3, bn=False, dropout=False, rate=0.5, activation = \"relu\"):\n",
    "    \"\"\"\n",
    "    Builds a sequential network based on the specified parameters.\n",
    "    \n",
    "    blocks: number of convolutional blocks in the network, must be greater than 2.\n",
    "    bn: whether to include batch normalization or not.\n",
    "    activation: activation function to use throughout the network.\n",
    "    \"\"\"\n",
    "    model = Sequential()\n",
    "    \n",
    "    model = conv_block_first(model, bn=bn, dropout=dropout, rate=rate, activation=activation)\n",
    "    \n",
    "    for block in range(1,blocks-1):\n",
    "        model = conv_block(model, bn=bn, dropout=dropout, rate=rate, activation = activation)\n",
    "        \n",
    "    model = conv_block_final(model, bn=bn, dropout=dropout, rate=rate, activation=activation)\n",
    "    model = fn_block(model)\n",
    "    \n",
    "    return model\n",
    "\n",
    "def compile_model(model, optimizer = \"rmsprop\", loss = \"categorical_crossentropy\", metrics = [\"accuracy\"]): \n",
    "    \"\"\"\n",
    "    Compiles a neural network.\n",
    "    \n",
    "    model: the network to be compiled.\n",
    "    optimizer: the optimizer to use.\n",
    "    loss: the loss to use.\n",
    "    metrics: a list of keras metrics.\n",
    "    \"\"\"\n",
    "    model.compile(optimizer = optimizer,\n",
    "                 loss = loss,\n",
    "                 metrics = metrics)\n",
    "    return model"
   ]
  },
  {
   "cell_type": "markdown",
   "metadata": {},
   "source": [
    "### Compile the Models"
   ]
  },
  {
   "cell_type": "code",
   "execution_count": null,
   "metadata": {},
   "outputs": [],
   "source": [
    "control = build_model(blocks = 5, bn=False, dropout=False, activation = \"relu\")\n",
    "control = compile_model(control)\n",
    "\n",
    "batchNorm = build_model(blocks = 5, bn=True, dropout=False, activation = \"relu\")\n",
    "batchNorm = compile_model(batchNorm)\n",
    "\n",
    "dropout5 = build_model(blocks = 5, bn=False, dropout=True, rate=0.5, activation = \"relu\")\n",
    "dropout5 = compile_model(dropout5)\n",
    "\n",
    "dropout3 = build_model(blocks = 5, bn=False, dropout=True, rate=0.3, activation = \"relu\")\n",
    "dropout3 = compile_model(dropout3)\n",
    "\n",
    "dropout1 = build_model(blocks = 5, bn=False, dropout=True, rate=0.1, activation = \"relu\")\n",
    "dropout1 = compile_model(dropout1)"
   ]
  },
  {
   "cell_type": "markdown",
   "metadata": {},
   "source": [
    "## Training the Models\n",
    "\n",
    "### Control"
   ]
  },
  {
   "cell_type": "code",
   "execution_count": null,
   "metadata": {},
   "outputs": [],
   "source": [
    "history6 = trainModel(control, 'models/control2.h5')"
   ]
  },
  {
   "cell_type": "code",
   "execution_count": null,
   "metadata": {},
   "outputs": [],
   "source": [
    "plotModel(history1, \"Control\")"
   ]
  },
  {
   "cell_type": "markdown",
   "metadata": {},
   "source": [
    "### Batch Norm"
   ]
  },
  {
   "cell_type": "code",
   "execution_count": null,
   "metadata": {},
   "outputs": [],
   "source": [
    "history7 = trainModel(batchNorm, 'models/batchNorm2.h5')"
   ]
  },
  {
   "cell_type": "code",
   "execution_count": null,
   "metadata": {},
   "outputs": [],
   "source": [
    "plotModel(history7, \"BN After Activation\")"
   ]
  },
  {
   "cell_type": "markdown",
   "metadata": {},
   "source": [
    "### Dropout 0.5"
   ]
  },
  {
   "cell_type": "code",
   "execution_count": null,
   "metadata": {},
   "outputs": [],
   "source": [
    "history8 = trainModel(dropout5, 'models/Dropout52.h5')"
   ]
  },
  {
   "cell_type": "code",
   "execution_count": null,
   "metadata": {},
   "outputs": [],
   "source": [
    "plotModel(history8, \"D (0.5) After Activation\")"
   ]
  },
  {
   "cell_type": "markdown",
   "metadata": {},
   "source": [
    "### Dropout 0.3"
   ]
  },
  {
   "cell_type": "code",
   "execution_count": null,
   "metadata": {},
   "outputs": [],
   "source": [
    "history9 = trainModel(dropout3, 'models/Dropout32.h5')"
   ]
  },
  {
   "cell_type": "code",
   "execution_count": null,
   "metadata": {},
   "outputs": [],
   "source": [
    "plotModel(history9, \"D (0.3) After Activation\")"
   ]
  },
  {
   "cell_type": "markdown",
   "metadata": {},
   "source": [
    "### Dropout 0.1"
   ]
  },
  {
   "cell_type": "code",
   "execution_count": null,
   "metadata": {},
   "outputs": [],
   "source": [
    "history10 = trainModel(dropout1, 'models/Dropout12.h5')"
   ]
  },
  {
   "cell_type": "code",
   "execution_count": null,
   "metadata": {},
   "outputs": [],
   "source": [
    "plotModel(history10, \"D (0.1) After Activation\")"
   ]
  },
  {
   "cell_type": "markdown",
   "metadata": {},
   "source": [
    "### Performance of BN and D after activations"
   ]
  },
  {
   "cell_type": "code",
   "execution_count": null,
   "metadata": {},
   "outputs": [],
   "source": [
    "plotAllModels(history6, history7, history8, history9, history10, \"All Models (after activation)\")"
   ]
  },
  {
   "cell_type": "markdown",
   "metadata": {},
   "source": [
    "# What if we add BN and D after maxpooling?\n",
    "\n",
    "## Model Construction"
   ]
  },
  {
   "cell_type": "code",
   "execution_count": null,
   "metadata": {},
   "outputs": [],
   "source": [
    "def conv_block_first(model, bn=False, dropout=False, rate=0.4, activation=\"relu\"):\n",
    "    \"\"\"\n",
    "    The first convolutional block in each architecture. Only seperate so we can \n",
    "    specify the input shape.\n",
    "    \"\"\"\n",
    "    model.add(Conv2D(60,3, padding = \"same\", input_shape = x_train.shape[1:]))   \n",
    "    model.add(Activation(activation))\n",
    "    \n",
    "    model.add(Conv2D(60,3, padding = \"same\")) \n",
    "    model.add(Activation(activation))\n",
    "    \n",
    "    model.add(MaxPooling2D())\n",
    "    if bn:\n",
    "        model.add(BatchNormalization())\n",
    "    if dropout:\n",
    "        model.add(Dropout(rate)) \n",
    "    return model\n",
    "\n",
    "def conv_block(model, bn=False, dropout=False, rate=0.5, activation = \"relu\"):\n",
    "    \"\"\"\n",
    "    Generic convolutional block with 2 stacked 3x3 convolutions, max pooling, dropout, \n",
    "    and an optional Batch Normalization.\n",
    "    \"\"\"\n",
    "    model.add(Conv2D(60,3, padding = \"same\"))\n",
    "    model.add(Activation(activation))\n",
    "    \n",
    "    model.add(Conv2D(60,3, padding = \"same\")) \n",
    "    model.add(Activation(activation))\n",
    "    \n",
    "    model.add(MaxPooling2D())\n",
    "    if bn:\n",
    "        model.add(BatchNormalization())\n",
    "    if dropout:\n",
    "        model.add(Dropout(rate)) \n",
    "    return model\n",
    "\n",
    "def conv_block_final(model, bn=False, dropout=False, rate=0.5, activation = \"relu\"):\n",
    "    \"\"\"\n",
    "    I bumped up the number of filters in the final block. I made this seperate so that\n",
    "    I might be able to integrate Global Average Pooling later on. \n",
    "    \"\"\"\n",
    "    model.add(Conv2D(100,3, padding = \"same\")) \n",
    "    model.add(Activation(activation))\n",
    "    \n",
    "    model.add(Conv2D(100,3, padding = \"same\")) \n",
    "    model.add(Activation(activation))\n",
    "    if bn:\n",
    "        model.add(BatchNormalization())\n",
    "    if dropout:\n",
    "        model.add(Dropout(rate)) \n",
    "\n",
    "    \n",
    "    model.add(Flatten())\n",
    "    return model\n",
    "\n",
    "def fn_block(model):\n",
    "    \"\"\"\n",
    "    I'm not going for a very deep fully connected block, mainly so I can save on memory.\n",
    "    \"\"\"\n",
    "    model.add(Dense(100, activation = \"softmax\"))\n",
    "    return model\n",
    "\n",
    "def build_model(blocks=3, bn=False, dropout=False, rate=0.5, activation = \"relu\"):\n",
    "    \"\"\"\n",
    "    Builds a sequential network based on the specified parameters.\n",
    "    \n",
    "    blocks: number of convolutional blocks in the network, must be greater than 2.\n",
    "    bn: whether to include batch normalization or not.\n",
    "    activation: activation function to use throughout the network.\n",
    "    \"\"\"\n",
    "    model = Sequential()\n",
    "    \n",
    "    model = conv_block_first(model, bn=bn, dropout=dropout, rate=rate, activation=activation)\n",
    "    \n",
    "    for block in range(1,blocks-1):\n",
    "        model = conv_block(model, bn=bn, dropout=dropout, rate=rate, activation = activation)\n",
    "        \n",
    "    model = conv_block_final(model, bn=bn, dropout=dropout, rate=rate, activation=activation)\n",
    "    model = fn_block(model)\n",
    "    \n",
    "    return model\n",
    "\n",
    "def compile_model(model, optimizer = \"rmsprop\", loss = \"categorical_crossentropy\", metrics = [\"accuracy\"]): \n",
    "    \"\"\"\n",
    "    Compiles a neural network.\n",
    "    \n",
    "    model: the network to be compiled.\n",
    "    optimizer: the optimizer to use.\n",
    "    loss: the loss to use.\n",
    "    metrics: a list of keras metrics.\n",
    "    \"\"\"\n",
    "    model.compile(optimizer = optimizer,\n",
    "                 loss = loss,\n",
    "                 metrics = metrics)\n",
    "    return model"
   ]
  },
  {
   "cell_type": "markdown",
   "metadata": {},
   "source": [
    "### Compile the models."
   ]
  },
  {
   "cell_type": "code",
   "execution_count": null,
   "metadata": {},
   "outputs": [],
   "source": [
    "control = build_model(blocks = 5, bn=False, dropout=False, activation = \"relu\")\n",
    "control = compile_model(control)\n",
    "\n",
    "batchNorm = build_model(blocks = 5, bn=True, dropout=False, activation = \"relu\")\n",
    "batchNorm = compile_model(batchNorm)\n",
    "\n",
    "dropout5 = build_model(blocks = 5, bn=False, dropout=True, rate=0.5, activation = \"relu\")\n",
    "dropout5 = compile_model(dropout5)\n",
    "\n",
    "dropout3 = build_model(blocks = 5, bn=False, dropout=True, rate=0.3, activation = \"relu\")\n",
    "dropout3 = compile_model(dropout3)\n",
    "\n",
    "dropout1 = build_model(blocks = 5, bn=False, dropout=True, rate=0.1, activation = \"relu\")\n",
    "dropout1 = compile_model(dropout1)"
   ]
  },
  {
   "cell_type": "markdown",
   "metadata": {},
   "source": [
    "## Train the models.\n",
    "\n",
    "### Control Model"
   ]
  },
  {
   "cell_type": "code",
   "execution_count": null,
   "metadata": {},
   "outputs": [],
   "source": [
    "history11 = trainModel(control, 'models/control3.h5')"
   ]
  },
  {
   "cell_type": "code",
   "execution_count": null,
   "metadata": {},
   "outputs": [],
   "source": [
    "plotModel(history11, \"Control\")"
   ]
  },
  {
   "cell_type": "markdown",
   "metadata": {},
   "source": [
    "### Batch Norm"
   ]
  },
  {
   "cell_type": "code",
   "execution_count": null,
   "metadata": {},
   "outputs": [],
   "source": [
    "history12 = trainModel(batchNorm, 'models/batchNorm2.h5')"
   ]
  },
  {
   "cell_type": "code",
   "execution_count": null,
   "metadata": {},
   "outputs": [],
   "source": [
    "plotModel(history12, \"BN After MaxPool\")"
   ]
  },
  {
   "cell_type": "markdown",
   "metadata": {},
   "source": [
    "### Dropout 0.5"
   ]
  },
  {
   "cell_type": "code",
   "execution_count": null,
   "metadata": {},
   "outputs": [],
   "source": [
    "history13 = trainModel(dropout5, 'models/Dropout53.h5')"
   ]
  },
  {
   "cell_type": "code",
   "execution_count": null,
   "metadata": {},
   "outputs": [],
   "source": [
    "plotModel(history13, \"D (0.5) After MaxPool\")"
   ]
  },
  {
   "cell_type": "markdown",
   "metadata": {},
   "source": [
    "### Dropout 0.3"
   ]
  },
  {
   "cell_type": "code",
   "execution_count": null,
   "metadata": {},
   "outputs": [],
   "source": [
    "history14 = trainModel(dropout3, 'models/Dropout33.h5')"
   ]
  },
  {
   "cell_type": "code",
   "execution_count": null,
   "metadata": {},
   "outputs": [],
   "source": [
    "plotModel(history14, \"D (0.3) After MaxPool\")"
   ]
  },
  {
   "cell_type": "markdown",
   "metadata": {},
   "source": [
    "### Dropout 0.1"
   ]
  },
  {
   "cell_type": "code",
   "execution_count": null,
   "metadata": {},
   "outputs": [],
   "source": [
    "history15 = trainModel(dropout1, 'models/Dropout13.h5')"
   ]
  },
  {
   "cell_type": "code",
   "execution_count": null,
   "metadata": {},
   "outputs": [],
   "source": [
    "plotModel(history15, \"D (0.1) After MaxPool\")"
   ]
  },
  {
   "cell_type": "markdown",
   "metadata": {},
   "source": [
    "### Performance of BN and D after maxpooling"
   ]
  },
  {
   "cell_type": "code",
   "execution_count": null,
   "metadata": {},
   "outputs": [],
   "source": [
    "plotAllModels(history11, history12, history13, history14, history15, \"All Models (after maxpool)\")"
   ]
  }
 ],
 "metadata": {
  "kernelspec": {
   "display_name": "Python [conda env:tensorflow]",
   "language": "python",
   "name": "conda-env-tensorflow-py"
  },
  "language_info": {
   "codemirror_mode": {
    "name": "ipython",
    "version": 3
   },
   "file_extension": ".py",
   "mimetype": "text/x-python",
   "name": "python",
   "nbconvert_exporter": "python",
   "pygments_lexer": "ipython3",
   "version": "3.5.4"
  }
 },
 "nbformat": 4,
 "nbformat_minor": 2
}
